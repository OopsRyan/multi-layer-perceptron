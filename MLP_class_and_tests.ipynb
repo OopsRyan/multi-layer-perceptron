{
 "cells": [
  {
   "cell_type": "markdown",
   "metadata": {
    "colab_type": "text",
    "id": "AwwiGNvy69lB"
   },
   "source": [
    "# **COMP30230**\n",
    "\n",
    "# **Qirun** **Chen** - **Student** **No. 16212138**"
   ]
  },
  {
   "cell_type": "markdown",
   "metadata": {
    "colab_type": "text",
    "id": "zloWLBlInA4B"
   },
   "source": [
    "# Multi layer perceptron "
   ]
  },
  {
   "cell_type": "code",
   "execution_count": 0,
   "metadata": {
    "colab": {
     "autoexec": {
      "startup": false,
      "wait_interval": 0
     }
    },
    "colab_type": "code",
    "id": "N-UMZYBMfP32"
   },
   "outputs": [],
   "source": [
    "\"\"\"\n",
    "Multi Layer Perceptron - only built with a single hidden layer\n",
    "\n",
    "An assignment of Connectionist Computing - UCD COMP30230 Module\n",
    "\n",
    "- Support learning the XOR problem\n",
    "- Support learning the Sin function\n",
    "- Support identifying handwritten letters trained by the data set below\n",
    "    Link => http://archive.ics.uci.edu/ml/datasets/Letter+Recognition\n",
    "\"\"\"\n",
    "\n",
    "__version__ = '0.1'\n",
    "__author__ = 'Qirun Chen - Student No. 16212138'\n",
    "__date__ = '27 Apr 2018'\n",
    "\n",
    "import numpy as np\n",
    "\n",
    "\n",
    "class MLP:\n",
    "    def __init__(self, n_i, n_h, n_o, activation='sigmoid', max_epochs=5000,\n",
    "                 learning_rate=0.1, verbose=2):\n",
    "        \"\"\" Initialize the whole network\n",
    "        :param n_i: The number of units in the input layer\n",
    "        :param n_h: The number of units in the hidden layer\n",
    "        :param n_o: The number of units in the output layer\n",
    "        :param activation: The activation function for activating the weights and inputs\n",
    "        :param max_epochs: The maximum iterations to training the MLP, to adjust weights\n",
    "        :param learning_rate: Indicating how much the delta on weights would be accepted\n",
    "        :param verbose: How much details should be printed during the training\n",
    "        \"\"\"\n",
    "\n",
    "        self.n_i = n_i\n",
    "        self.n_h = n_h\n",
    "        self.n_o = n_o\n",
    "        self.max_epochs = max_epochs\n",
    "        self.learning_rate = learning_rate\n",
    "        self.verbose = np.power(10, verbose-1)\n",
    "        # Initialize the activation function and its derivative functions\n",
    "        self.activation, self.d_activation = \\\n",
    "            self.__initialize_activation_func(activation)\n",
    "\n",
    "        # Initialize the loss function\n",
    "        self.__initialize_loss_func()\n",
    "\n",
    "        # Initialize the units to hold activation results\n",
    "        self.input = np.ones(self.n_i + 1)  # 1 for bias\n",
    "        self.h = np.ones(self.n_h)\n",
    "        self.o = np.ones(self.n_o)\n",
    "\n",
    "        # Initialize the weights of the lower layer and the upper layer\n",
    "        self.W1, self.W2 = self.__initialize_weights()\n",
    "\n",
    "    def __initialize_activation_func(self, activation):\n",
    "        \"\"\" Initialize the activation function and its derivative function\n",
    "        :param activation: The symbol of activation, taking a string\n",
    "        :return: The assigned activation function and its derivative\n",
    "        \"\"\"\n",
    "        # Temporarily using tanh - a rescaled logistic sigmoid function\n",
    "        return tanh, d_tanh\n",
    "\n",
    "    def __initialize_loss_func(self):\n",
    "        \"\"\" Initialize the loss function\n",
    "        - when n_o > 1, classification should apply cross entropy\n",
    "        - when n_o = 1, like a regression problem, should use squared error\n",
    "        :return: None\n",
    "        \"\"\"\n",
    "        if self.n_o > 1:\n",
    "            self.loss_func = cross_entropy\n",
    "        else:\n",
    "            self.loss_func = squared_error\n",
    "\n",
    "    def __initialize_weights(self):\n",
    "        \"\"\" Randomly initialize weights between -1 and 1\n",
    "                for the lower layer and the upper layer\n",
    "        :return: The initialized weights\n",
    "        \"\"\"\n",
    "        w1 = np.random.uniform(-0.2, 0.2, (self.input.size, self.h.size))\n",
    "        w2 = np.random.uniform(-0.2, 0.2, (self.h.size, self.o.size))\n",
    "        return w1, w2\n",
    "\n",
    "    def __forwards(self, inputs):\n",
    "        \"\"\" Propagate the inputs forward from the input layer\n",
    "                to the output layer\n",
    "        :param inputs: The training example\n",
    "        :return: The output on output units\n",
    "        \"\"\"\n",
    "\n",
    "        # In the input layer, the last one is 1 for bias\n",
    "        self.input[:-1] = inputs\n",
    "        # Activate the hidden layer\n",
    "        self.h = self.activation(np.dot(self.input, self.W1))\n",
    "        if self.n_o > 1:\n",
    "            # Classification - using SoftMax\n",
    "            self.o = softmax(np.dot(self.h, self.W2))\n",
    "        else:\n",
    "            # Regression\n",
    "            self.o = self.activation(np.dot(self.h, self.W2))\n",
    "\n",
    "        return self.o\n",
    "\n",
    "    def __backwards(self, expected):\n",
    "        \"\"\" The core training technique.\n",
    "                Propagate the error signal back to each layer,\n",
    "                and adjust the weights\n",
    "        :param expected: The expected outputs for calculating the error\n",
    "        :return: None\n",
    "        \"\"\"\n",
    "\n",
    "        # The error on the output layer\n",
    "        error = expected - self.o\n",
    "        # Computing the delta activation of the output layer\n",
    "        if self.n_o > 1:\n",
    "            # Classification\n",
    "            dz2 = error * d_softmax(self.o, softmax)\n",
    "        else:\n",
    "            # Regression\n",
    "            dz2 = error * self.d_activation(self.o)\n",
    "        # Computing the delta activation of the hidden layer\n",
    "        dz1 = np.dot(dz2, self.W2.T) * self.d_activation(self.h)\n",
    "\n",
    "        # Update the weights\n",
    "        self.__update_weights(dz1, dz2)\n",
    "\n",
    "    def __update_weights(self, dz1, dz2):\n",
    "        \"\"\" Update weights on the lower layer and the upper layer\n",
    "        :param dz1: The delta on the hidden layer\n",
    "        :param dz2: The delta on the output layer\n",
    "        :return: None\n",
    "        \"\"\"\n",
    "        dw1 = np.dot(np.atleast_2d(self.input).T, np.atleast_2d(dz1))\n",
    "        self.W1 += self.learning_rate * dw1\n",
    "        dw2 = np.dot(np.atleast_2d(self.h).T, np.atleast_2d(dz2))\n",
    "        self.W2 += self.learning_rate * dw2\n",
    "\n",
    "    def fit(self, X, y):\n",
    "        \"\"\" Training the MLP network by the training set\n",
    "        Adjust the weights by iterate the training set max-epoch times\n",
    "        :param X: The features of the training set\n",
    "        :param y: The labels/Outputs of the training set\n",
    "        :return: self\n",
    "        \"\"\"\n",
    "        for e in range(1, self.max_epochs):\n",
    "            cost = 0.\n",
    "            for j, row in enumerate(X):\n",
    "                # feed-forward the inputs to the output layer\n",
    "                o = self.__forwards(row)\n",
    "                # Accumulate the error of each example computed\n",
    "                #   by the loss function to get the cost\n",
    "                cost += self.loss_func(o, y[j])\n",
    "                # Back-propagate the error signal computed\n",
    "                #   according to the given expected output\n",
    "                self.__backwards(y[j])\n",
    "\n",
    "            # Print details during training\n",
    "            if self.n_o > 1:\n",
    "                # Classification\n",
    "                # Predict the training set and print the current accuracy\n",
    "                pre = self.predict(X)\n",
    "                acc = 0.\n",
    "                for k, _ in enumerate(y):\n",
    "                    if pre[k] == np.argmax(y[k]):\n",
    "                        acc += 1\n",
    "                if e % self.verbose == 0:\n",
    "                    print('epoch %d | error : %.3f | accuracy : %.3f' %\n",
    "                          (e, cost/len(X), acc/len(X)))\n",
    "            else:\n",
    "                if e % self.verbose == 0:\n",
    "                    # Regression - print the error\n",
    "                    print('epoch %d | error : %.3f' % (e, cost/(len(X))))\n",
    "\n",
    "        return self\n",
    "\n",
    "    def predict(self, X):\n",
    "        \"\"\" Predict on the test set\n",
    "        :param X: The unseen features of the test set\n",
    "        :return: The predicted output for each example in the test set\n",
    "        \"\"\"\n",
    "        y = list()\n",
    "        for j, row in enumerate(X):\n",
    "            if self.n_o > 1:\n",
    "                # Classification - using one hot encoding,\n",
    "                #   so find the index of output units with the max output\n",
    "                y.append(np.argmax(self.__forwards(row)))\n",
    "            else:\n",
    "                y.append(self.__forwards(row))\n",
    "        return np.array(y)\n",
    "\n",
    "\n",
    "# Definitions of sigmoid, derivatives, SoftMax, and loss functions\n",
    "def tanh(x):\n",
    "    \"\"\" The rescaled logistic sigmoid function\n",
    "    :param x: The input needs to be activated\n",
    "    :return: corresponding tanh value with the input x\n",
    "    \"\"\"\n",
    "    return np.tanh(x)\n",
    "\n",
    "\n",
    "def d_tanh(x):\n",
    "    \"\"\" The derivative of the tanh activation function\n",
    "    :param x: The input value\n",
    "    :return: The derivative\n",
    "    \"\"\"\n",
    "    return 1.0 - x**2\n",
    "\n",
    "\n",
    "def softmax(x):\n",
    "    \"\"\" Compute the SoftMax of vector x in a numerically stable way,\n",
    "            since numpy's exp would lead to infinite (nan)\n",
    "    :param x: In Classification, the inputs on the output units need to be activated\n",
    "    :return: The probabilities on each output unit. The sum should be 1.\n",
    "    \"\"\"\n",
    "    shiftx = x - np.max(x)\n",
    "    exps = np.exp(shiftx)\n",
    "    return exps / np.sum(exps)\n",
    "\n",
    "\n",
    "def d_softmax(o, f):\n",
    "    \"\"\" The derivative of SoftMax with respect to the output\n",
    "    :param o: The output\n",
    "    :param f: The activation function of the output layer - SoftMax in classification\n",
    "    :return: The derivative\n",
    "    \"\"\"\n",
    "    return f(o) * (1 - f(o))\n",
    "\n",
    "\n",
    "def cross_entropy(o, y):\n",
    "    \"\"\" Cross entropy loss function\n",
    "    :param o: The output\n",
    "    :param y: The expected output\n",
    "    :return: The cross entropy - the loss\n",
    "    \"\"\"\n",
    "    return np.sum(np.nan_to_num(-y * np.log(o) - (1-y) * np.log(1-o)))\n",
    "\n",
    "\n",
    "def squared_error(o, y):\n",
    "    \"\"\" Squared error loss function\n",
    "    :param o: The output\n",
    "    :param y: The expected output\n",
    "    :return: The square error - the loss\n",
    "    \"\"\"\n",
    "    return 0.5 * ((y-o) ** 2).sum()\n",
    "\n",
    "\n"
   ]
  },
  {
   "cell_type": "markdown",
   "metadata": {
    "colab_type": "text",
    "id": "EYx0U9NZnH0y"
   },
   "source": [
    "## Test 1 - Learning XOR problem"
   ]
  },
  {
   "cell_type": "markdown",
   "metadata": {
    "colab_type": "text",
    "id": "-JM6HvXgnNmq"
   },
   "source": [
    " [0, 0] => 0\n",
    " \n",
    " [0, 1] => 1\n",
    " \n",
    " [1, 0] => 1\n",
    " \n",
    " [1, 1] => 0"
   ]
  },
  {
   "cell_type": "code",
   "execution_count": 58,
   "metadata": {
    "colab": {
     "autoexec": {
      "startup": false,
      "wait_interval": 0
     },
     "base_uri": "https://localhost:8080/",
     "height": 425
    },
    "colab_type": "code",
    "executionInfo": {
     "elapsed": 691,
     "status": "ok",
     "timestamp": 1524871110380,
     "user": {
      "displayName": "Qirun Chen",
      "photoUrl": "https://lh3.googleusercontent.com/a/default-user=s128",
      "userId": "107057765158730970246"
     },
     "user_tz": -60
    },
    "id": "OM5WjjgMfRJV",
    "outputId": "320bb1ba-f10a-459a-c1bf-fa3d904b8959"
   },
   "outputs": [
    {
     "name": "stdout",
     "output_type": "stream",
     "text": [
      "epoch 100 | error : 0.112\n",
      "epoch 200 | error : 0.095\n",
      "epoch 300 | error : 0.078\n",
      "epoch 400 | error : 0.035\n",
      "epoch 500 | error : 0.012\n",
      "epoch 600 | error : 0.006\n",
      "epoch 700 | error : 0.003\n",
      "epoch 800 | error : 0.002\n",
      "epoch 900 | error : 0.002\n",
      "epoch 1000 | error : 0.001\n",
      "epoch 1100 | error : 0.001\n",
      "epoch 1200 | error : 0.001\n",
      "epoch 1300 | error : 0.001\n",
      "epoch 1400 | error : 0.001\n",
      "epoch 1500 | error : 0.001\n",
      "epoch 1600 | error : 0.001\n",
      "epoch 1700 | error : 0.000\n",
      "epoch 1800 | error : 0.000\n",
      "epoch 1900 | error : 0.000\n",
      "========================================\n",
      "[0 0] | expected : 0 | output : 0.005\n",
      "[0 1] | expected : 1 | output : 0.962\n",
      "[1 0] | expected : 1 | output : 0.961\n",
      "[1 1] | expected : 0 | output : 0.003\n"
     ]
    }
   ],
   "source": [
    "\"\"\"\n",
    "A test for Multi Layer Perceptron\n",
    "\n",
    "An assignment of Connectionist Computing - UCD COMP30230 Module\n",
    "\n",
    "- Test 1 to see if mlp learns the XOR problem\n",
    "\"\"\"\n",
    "\n",
    "__version__ = '0.1'\n",
    "__author__ = 'Qirun Chen - Student No. 16212138'\n",
    "__date__ = '27 Apr 2018'\n",
    "\n",
    "\n",
    "# Initialize the XOR inputs\n",
    "XOR_inputs = np.array([\n",
    "    [0, 0, 0],\n",
    "    [0, 1, 1],\n",
    "    [1, 0, 1],\n",
    "    [1, 1, 0]\n",
    "])\n",
    "\n",
    "# Split the inputs and outputs\n",
    "x = XOR_inputs[:, :-1]\n",
    "y = XOR_inputs[:, -1]\n",
    "\n",
    "# Initialize the MLP network\n",
    "mlp = MLP(2, 2, 1, max_epochs=2000, verbose=3)\n",
    "\n",
    "# Training the MLP\n",
    "mlp.fit(x, y)\n",
    "\n",
    "# Predict the MLP on XOR inputs\n",
    "prediction = mlp.predict(x)\n",
    "print(\"==\" * 20)\n",
    "for i, l in enumerate(y):\n",
    "    print('%s | expected : %.f | output : %.3f' % (str(x[i]), y[i], prediction[i]))\n",
    "\n"
   ]
  },
  {
   "cell_type": "markdown",
   "metadata": {
    "colab_type": "text",
    "id": "DgDoxFD75Bej"
   },
   "source": [
    "## Test 2 - Learning Sin function"
   ]
  },
  {
   "cell_type": "markdown",
   "metadata": {
    "colab_type": "text",
    "id": "llmNbQsg5JQb"
   },
   "source": [
    "### sin(x1-x2+x3-x4)"
   ]
  },
  {
   "cell_type": "code",
   "execution_count": 68,
   "metadata": {
    "colab": {
     "autoexec": {
      "startup": false,
      "wait_interval": 0
     },
     "base_uri": "https://localhost:8080/",
     "height": 527
    },
    "colab_type": "code",
    "executionInfo": {
     "elapsed": 49449,
     "status": "ok",
     "timestamp": 1524871420449,
     "user": {
      "displayName": "Qirun Chen",
      "photoUrl": "https://lh3.googleusercontent.com/a/default-user=s128",
      "userId": "107057765158730970246"
     },
     "user_tz": -60
    },
    "id": "d8KxNfLdfSpM",
    "outputId": "d8f3ea42-0b96-46be-9905-9765832058ed"
   },
   "outputs": [
    {
     "name": "stdout",
     "output_type": "stream",
     "text": [
      "epoch 100 | error : 0.006\n",
      "epoch 200 | error : 0.001\n",
      "epoch 300 | error : 0.000\n",
      "epoch 400 | error : 0.000\n",
      "epoch 500 | error : 0.000\n",
      "epoch 600 | error : 0.000\n",
      "epoch 700 | error : 0.000\n",
      "epoch 800 | error : 0.000\n",
      "epoch 900 | error : 0.000\n",
      "epoch 1000 | error : 0.000\n",
      "epoch 1100 | error : 0.000\n",
      "epoch 1200 | error : 0.000\n",
      "epoch 1300 | error : 0.000\n",
      "epoch 1400 | error : 0.000\n",
      "epoch 1500 | error : 0.000\n",
      "epoch 1600 | error : 0.000\n",
      "epoch 1700 | error : 0.000\n",
      "epoch 1800 | error : 0.000\n",
      "epoch 1900 | error : 0.000\n",
      "epoch 2000 | error : 0.000\n",
      "epoch 2100 | error : 0.000\n",
      "epoch 2200 | error : 0.000\n",
      "epoch 2300 | error : 0.000\n",
      "epoch 2400 | error : 0.000\n",
      "epoch 2500 | error : 0.000\n",
      "epoch 2600 | error : 0.000\n",
      "epoch 2700 | error : 0.000\n",
      "epoch 2800 | error : 0.000\n",
      "epoch 2900 | error : 0.000\n"
     ]
    },
    {
     "data": {
      "text/plain": [
       "<__main__.MLP at 0x7f4d90f35630>"
      ]
     },
     "execution_count": 68,
     "metadata": {
      "tags": []
     },
     "output_type": "execute_result"
    }
   ],
   "source": [
    "\"\"\"\n",
    "A test for Multi Layer Perceptron\n",
    "\n",
    "An assignment of Connectionist Computing - UCD COMP30230 Module\n",
    "\n",
    "- Test 2 to see if mlp learns the Sin function\n",
    "\"\"\"\n",
    "\n",
    "__version__ = '0.1'\n",
    "__author__ = 'Qirun Chen - Student No. 16212138'\n",
    "__date__ = '27 Apr 2018'\n",
    "\n",
    "\n",
    "# Initialize the MLP network\n",
    "mlp = MLP(4, 10, 1, learning_rate=0.1, max_epochs=3000, verbose=3)\n",
    "\n",
    "# Initialize the training set and test set\n",
    "sample_num = 500\n",
    "split_ratio = 0.8\n",
    "train_num = int(sample_num * split_ratio)\n",
    "test_num = sample_num - train_num\n",
    "\n",
    "# Randomly initialize the inputs\n",
    "X = np.random.uniform(-1, 1, (sample_num, 4))\n",
    "# Compute the output according to the function sin(x1-x2+x3-x4)\n",
    "y = list(map(lambda a: np.sin(a[0] - a[1] + a[2] - a[3]), X))\n",
    "# Stack the output to the x values\n",
    "ds = np.column_stack((X, y))\n",
    "\n",
    "# Split the training set and test set\n",
    "train = ds[:train_num]\n",
    "test = ds[train_num:]\n",
    "\n",
    "# Train the MLP network\n",
    "mlp.fit(train[:, :-1], train[:, -1])\n"
   ]
  },
  {
   "cell_type": "code",
   "execution_count": 71,
   "metadata": {
    "colab": {
     "autoexec": {
      "startup": false,
      "wait_interval": 0
     },
     "base_uri": "https://localhost:8080/",
     "height": 1751
    },
    "colab_type": "code",
    "executionInfo": {
     "elapsed": 506,
     "status": "ok",
     "timestamp": 1524871663104,
     "user": {
      "displayName": "Qirun Chen",
      "photoUrl": "https://lh3.googleusercontent.com/a/default-user=s128",
      "userId": "107057765158730970246"
     },
     "user_tz": -60
    },
    "id": "YwnCFJCgN4ZQ",
    "outputId": "c19774ae-d7fe-4585-ae2b-a2dced6ce6b2"
   },
   "outputs": [
    {
     "name": "stdout",
     "output_type": "stream",
     "text": [
      "[ 0.21052972  0.02015795  0.76271994 -0.45459273] | expected : 1 | output : 0.968\n",
      "[-0.53144349 -0.03693457 -0.32118328 -0.98627899] | expected : 0 | output : 0.183\n",
      "[-0.15788841  0.99115722 -0.66410057  0.22267419] | expected : -1 | output : -0.910\n",
      "[ 0.90034523  0.49676132  0.39518066 -0.28629993] | expected : 1 | output : 0.894\n",
      "[-0.8190109  -0.66919025 -0.2892418  -0.91594012] | expected : 0 | output : 0.444\n",
      "[ 0.21667442 -0.09182284 -0.08227725 -0.43948194] | expected : 1 | output : 0.605\n",
      "[ 0.59136831  0.36976902 -0.06531821 -0.50908552] | expected : 1 | output : 0.604\n",
      "[-0.71851288  0.17740553  0.9249166  -0.83790149] | expected : 1 | output : 0.766\n",
      "[ 0.51128773  0.5391894   0.35820463 -0.24778348] | expected : 1 | output : 0.537\n",
      "[ 0.12768396 -0.50392547 -0.754824    0.83719861] | expected : -1 | output : -0.827\n",
      "[-0.73209477  0.01689286  0.96435228 -0.84309403] | expected : 1 | output : 0.887\n",
      "[-0.96506678 -0.81170764 -0.19286978 -0.41397669] | expected : 0 | output : 0.073\n",
      "[ 0.74254604  0.93239048  0.37241519 -0.00300495] | expected : 0 | output : 0.199\n",
      "[-0.08040226 -0.13374836 -0.13538274  0.05536698] | expected : -0 | output : -0.141\n",
      "[-0.06717616 -0.89807615 -0.19053825 -0.26239971] | expected : 1 | output : 0.795\n",
      "[-0.69060025  0.11516379 -0.28176663 -0.40199231] | expected : -1 | output : -0.629\n",
      "[-0.11027823  0.12535076 -0.89350339  0.32402137] | expected : -1 | output : -0.970\n",
      "[-0.24515098 -0.18218414 -0.10183365  0.70011758] | expected : -1 | output : -0.765\n",
      "[-0.08175081  0.79175262 -0.21028942 -0.95701437] | expected : -0 | output : -0.113\n",
      "[-0.42144139  0.49604047  0.83491934 -0.84060963] | expected : 1 | output : 0.683\n",
      "[-0.90732429 -0.87251216 -0.63921656 -0.55719491] | expected : -0 | output : -0.112\n",
      "[ 0.69214814  0.07522348  0.40016066 -0.13178445] | expected : 1 | output : 0.921\n",
      "[ 0.66427943  0.44209189 -0.54098096 -0.85194352] | expected : 1 | output : 0.506\n",
      "[ 0.57591977 -0.03789632 -0.41890893 -0.55575771] | expected : 1 | output : 0.674\n",
      "[ 0.5314297  -0.03846399  0.31488878  0.32067603] | expected : 1 | output : 0.520\n",
      "[ 0.07129981  0.92334946 -0.90163966  0.78641524] | expected : -1 | output : -0.559\n",
      "[-0.54585302 -0.6256471   0.9417845  -0.25800616] | expected : 1 | output : 0.953\n",
      "[-0.88666807 -0.19423095 -0.17415052 -0.05994614] | expected : -1 | output : -0.725\n",
      "[ 0.88899879  0.85068206 -0.32697962  0.6585185 ] | expected : -1 | output : -0.819\n",
      "[-0.116497    0.03444056 -0.09381296 -0.37449778] | expected : 0 | output : 0.141\n",
      "[ 0.27452681 -0.21750886  0.71650043  0.18653314] | expected : 1 | output : 0.869\n",
      "[-0.68636412 -0.79169484 -0.50570055 -0.89797274] | expected : 0 | output : 0.463\n",
      "[ 0.54456539  0.20723052 -0.79173873  0.75671736] | expected : -1 | output : -0.939\n",
      "[-0.90317995 -0.83242729 -0.55723732 -0.25929079] | expected : -0 | output : -0.357\n",
      "[ 0.60496938  0.73041405 -0.62574474 -0.90562694] | expected : 0 | output : 0.179\n",
      "[0.98704368 0.98120033 0.34218908 0.53898864] | expected : -0 | output : -0.200\n",
      "[-0.69387343 -0.23422858  0.80313024  0.23619669] | expected : 0 | output : 0.114\n",
      "[ 4.74647364e-01 -7.90870501e-01  2.31379971e-04 -7.21748353e-01] | expected : 1 | output : 0.918\n",
      "[-0.02622384  0.42174947 -0.21188185 -0.23800031] | expected : -0 | output : -0.403\n",
      "[ 0.10961818  0.90835471 -0.2585437   0.4387386 ] | expected : -1 | output : -0.972\n",
      "[ 0.13228     0.50329919 -0.77745529 -0.6535397 ] | expected : -0 | output : -0.456\n",
      "[ 0.31214178 -0.194826    0.61701726  0.48094352] | expected : 1 | output : 0.583\n",
      "[-0.979793   -0.10095455  0.0162883  -0.36136835] | expected : -0 | output : -0.480\n",
      "[ 0.49183647  0.31460802  0.28739765 -0.52818125] | expected : 1 | output : 0.845\n",
      "[ 0.57456275 -0.55115413 -0.09270801 -0.07751616] | expected : 1 | output : 0.909\n",
      "[-0.77913191 -0.94043816 -0.33962437 -0.32802708] | expected : 0 | output : 0.157\n",
      "[-0.37611826 -0.72111485  0.37588069  0.40692447] | expected : 0 | output : 0.308\n",
      "[ 0.49471599 -0.66760238 -0.40901053 -0.62668823] | expected : 1 | output : 0.964\n",
      "[-0.99614792 -0.06517342 -0.46993253 -0.94285013] | expected : -0 | output : -0.436\n",
      "[-0.06182758  0.84133602  0.85866941  0.72996984] | expected : -1 | output : -0.704\n",
      "[-0.29565377  0.95199785  0.10154104 -0.58148841] | expected : -1 | output : -0.525\n",
      "[0.21033507 0.57645811 0.62111615 0.16081016] | expected : 0 | output : 0.104\n",
      "[ 0.60871302 -0.36665001 -0.60753769 -0.79388105] | expected : 1 | output : 0.924\n",
      "[ 0.70492036 -0.56654829  0.99954587  0.59465228] | expected : 1 | output : 0.972\n",
      "[ 0.75274985 -0.43644779 -0.6211053   0.09160516] | expected : 0 | output : 0.456\n",
      "[ 0.47734456 -0.30193302  0.53689091 -0.11600957] | expected : 1 | output : 0.969\n",
      "[0.03104926 0.63663501 0.37817123 0.96395044] | expected : -1 | output : -0.933\n",
      "[-0.39393302  0.49630114  0.63110727  0.85716667] | expected : -1 | output : -0.908\n",
      "[ 0.00511763 -0.41294503 -0.76586449 -0.08247921] | expected : -0 | output : -0.261\n",
      "[ 0.14373974 -0.31590024  0.97131897  0.20640131] | expected : 1 | output : 0.946\n",
      "[ 0.34809725  0.49408263  0.11360798 -0.310741  ] | expected : 0 | output : 0.287\n",
      "[-0.28465112  0.81171824 -0.59110507 -0.46457294] | expected : -1 | output : -0.945\n",
      "[ 0.14786078 -0.32810969 -0.40795425  0.41652353] | expected : -0 | output : -0.346\n",
      "[-0.09838706 -0.05288882  0.10892001 -0.98423601] | expected : 1 | output : 0.875\n",
      "[-0.44073492  0.53643717 -0.54905568 -0.72276456] | expected : -1 | output : -0.723\n",
      "[ 0.47035674 -0.21893124 -0.97425616  0.15313811] | expected : -0 | output : -0.418\n",
      "[ 0.92266244  0.86678589 -0.14713399  0.10026825] | expected : -0 | output : -0.190\n",
      "[-0.88959624  0.25561163  0.14885709  0.7079132 ] | expected : -1 | output : -0.964\n",
      "[ 0.81516132  0.71702574 -0.72802554 -0.80392556] | expected : 0 | output : 0.197\n",
      "[ 0.74910828 -0.53685493 -0.10283408  0.89656884] | expected : 0 | output : 0.276\n",
      "[-0.56505363  0.48683464  0.60307573  0.95251431] | expected : -1 | output : -0.965\n",
      "[-0.02083534 -0.8493676   0.61996485  0.53354207] | expected : 1 | output : 0.806\n",
      "[-0.62596462 -0.17429271 -0.86485275 -0.69127751] | expected : -1 | output : -0.571\n",
      "[-0.98975016 -0.03509212  0.39479962 -0.46565551] | expected : -0 | output : -0.093\n",
      "[-0.64807406  0.75938479 -0.23476875  0.99184143] | expected : -0 | output : -0.489\n",
      "[ 0.98488089  0.43648436 -0.73904401 -0.63690833] | expected : 0 | output : 0.438\n",
      "[-0.7254147   0.50467412 -0.05875446  0.96185995] | expected : -1 | output : -0.807\n",
      "[ 0.5383401  -0.62733836 -0.29331057  0.7164985 ] | expected : 0 | output : 0.152\n",
      "[ 0.96490941 -0.67322025  0.16024816 -0.60986348] | expected : 1 | output : 0.711\n",
      "[-0.91306798 -0.11629939 -0.6142163  -0.48646829] | expected : -1 | output : -0.811\n",
      "[-0.79307971 -0.5258442   0.11122665  0.63810907] | expected : -1 | output : -0.714\n",
      "[ 0.36887472  0.97355303  0.43697638 -0.09044007] | expected : -0 | output : -0.070\n",
      "[ 0.24242529  0.29041401 -0.44274767 -0.45635193] | expected : -0 | output : -0.024\n",
      "[ 0.4155061  -0.5173256   0.44822138 -0.80031119] | expected : 1 | output : 0.840\n",
      "[ 0.60134482  0.88961268 -0.80289979 -0.23787133] | expected : -1 | output : -0.754\n",
      "[-0.59378352  0.18293435 -0.90997642  0.44795415] | expected : -1 | output : -0.871\n",
      "[ 0.08232514  0.29057559 -0.91699775  0.19102283] | expected : -1 | output : -0.960\n",
      "[-0.74853573  0.40126964  0.69851554  0.25533486] | expected : -1 | output : -0.648\n",
      "[0.51301738 0.70858967 0.25341452 0.77135358] | expected : -1 | output : -0.649\n",
      "[-0.43234734  0.75827752 -0.45034085 -0.121382  ] | expected : -1 | output : -0.972\n",
      "[-0.93296888  0.72436654  0.47431044 -0.32940946] | expected : -1 | output : -0.763\n",
      "[-0.48952514 -0.38144069 -0.33832069  0.1873476 ] | expected : -1 | output : -0.585\n",
      "[-0.81254437 -0.94883691 -0.6038545   0.59331698] | expected : -1 | output : -0.880\n",
      "[-0.79265968 -0.93823869  0.40693575 -0.21680244] | expected : 1 | output : 0.689\n",
      "[-0.18849367 -0.82811092  0.39457581  0.68308468] | expected : 0 | output : 0.340\n",
      "[ 0.14301924  0.77575892 -0.84692717  0.55275246] | expected : -1 | output : -0.916\n",
      "[ 0.9734934  -0.04928302  0.57653553  0.6078194 ] | expected : 1 | output : 0.846\n",
      "[ 0.52474427 -0.20764514  0.80677437  0.92938673] | expected : 1 | output : 0.553\n",
      "[ 0.97741273  0.19450192 -0.55279529  0.9647272 ] | expected : -1 | output : -0.661\n",
      "[ 0.39058864 -0.52577608  0.59783406  0.01208894] | expected : 1 | output : 0.972\n",
      "========================================\n",
      "error on test set : 0.00009\n"
     ]
    }
   ],
   "source": [
    "test_x = test[:, :-1]\n",
    "test_y = test[:, -1]\n",
    "# Predict on the test set\n",
    "prediction = mlp.predict(test_x).flatten()\n",
    "\n",
    "cost = 0.\n",
    "for i, l in enumerate(test_x):\n",
    "    cost += 0.5 * (test_y[i] - prediction[i]) ** 2\n",
    "    print('%s | expected : %.f | output : %.3f' % \n",
    "          (str(l), test_y[i], prediction[i]))\n",
    "print('==' * 20)\n",
    "print('error on test set : %.5f' % (cost/len(test_x)))"
   ]
  },
  {
   "cell_type": "code",
   "execution_count": 70,
   "metadata": {
    "colab": {
     "autoexec": {
      "startup": false,
      "wait_interval": 0
     },
     "base_uri": "https://localhost:8080/",
     "height": 265
    },
    "colab_type": "code",
    "executionInfo": {
     "elapsed": 989,
     "status": "ok",
     "timestamp": 1524871581777,
     "user": {
      "displayName": "Qirun Chen",
      "photoUrl": "https://lh3.googleusercontent.com/a/default-user=s128",
      "userId": "107057765158730970246"
     },
     "user_tz": -60
    },
    "id": "lU51gDO-fVG-",
    "outputId": "d14a0a88-6934-4c25-ed41-1a1eccb1e9d6"
   },
   "outputs": [
    {
     "data": {
      "image/png": "[encoded data removed]",
      "text/plain": [
       "<matplotlib.figure.Figure at 0x7f4d909c0128>"
      ]
     },
     "metadata": {
      "tags": []
     },
     "output_type": "display_data"
    }
   ],
   "source": [
    "import matplotlib.pyplot as plt\n",
    "\n",
    "# Compute the x value for the sin function for plotting\n",
    "x = list(map(lambda a: a[0] - a[1] + a[2] - a[3], X))\n",
    "output_y = mlp.predict(X)\n",
    "# Indicate the figure size\n",
    "plt.figure(figsize=(8, 4))\n",
    "# Draw the real function and the MLP prediction approximated function\n",
    "plt.plot(x, y, 'g^', x, output_y, 'ro')\n",
    "# X axis [0, 3] | Y axis [0, 1.3]\n",
    "plt.axis([0, 3, 0, 1.3])\n",
    "plt.show()\n"
   ]
  },
  {
   "cell_type": "markdown",
   "metadata": {
    "colab_type": "text",
    "id": "hT32rpJ_6UJO"
   },
   "source": [
    "## Exceptional Test - Letter Recognition"
   ]
  },
  {
   "cell_type": "code",
   "execution_count": 6,
   "metadata": {
    "colab": {
     "autoexec": {
      "startup": false,
      "wait_interval": 0
     },
     "base_uri": "https://localhost:8080/",
     "height": 238
    },
    "colab_type": "code",
    "executionInfo": {
     "elapsed": 3456517,
     "status": "ok",
     "timestamp": 1524906394542,
     "user": {
      "displayName": "Qirun Chen",
      "photoUrl": "https://lh3.googleusercontent.com/a/default-user=s128",
      "userId": "107057765158730970246"
     },
     "user_tz": -60
    },
    "id": "zyCA_xBn6fxO",
    "outputId": "937adbe7-ded8-4c16-97d5-38cbc93bf7dc"
   },
   "outputs": [
    {
     "name": "stdout",
     "output_type": "stream",
     "text": [
      "epoch 100 | error : 0.720 | accuracy : 0.862\n",
      "epoch 200 | error : 0.680 | accuracy : 0.868\n",
      "epoch 300 | error : 0.684 | accuracy : 0.869\n",
      "epoch 400 | error : 0.707 | accuracy : 0.870\n",
      "epoch 500 | error : 0.715 | accuracy : 0.862\n",
      "epoch 600 | error : 0.733 | accuracy : 0.855\n",
      "epoch 700 | error : 0.730 | accuracy : 0.849\n",
      "epoch 800 | error : 0.743 | accuracy : 0.841\n",
      "epoch 900 | error : 0.755 | accuracy : 0.846\n",
      "epoch 1000 | error : 0.742 | accuracy : 0.848\n",
      "epoch 1100 | error : 0.785 | accuracy : 0.851\n",
      "epoch 1200 | error : 0.784 | accuracy : 0.842\n"
     ]
    },
    {
     "data": {
      "text/plain": [
       "<__main__.MLP at 0x7f0c47b979e8>"
      ]
     },
     "execution_count": 6,
     "metadata": {
      "tags": []
     },
     "output_type": "execute_result"
    }
   ],
   "source": [
    "import warnings\n",
    "warnings.filterwarnings('ignore')\n",
    "\n",
    "import csv\n",
    "\n",
    "def to_character(n):\n",
    "    \"\"\" Map an integer to the character according to ASCII table\n",
    "    :param n: The int number in ASCII\n",
    "    :return: The character in ASCII\n",
    "    \"\"\"\n",
    "    # The starting number of character 'A' in ASCII table\n",
    "    char_delta = ord('A')\n",
    "    return chr(int(n) + char_delta)\n",
    "\n",
    "\n",
    "dataset = list()\n",
    "# Read data from csv\n",
    "with open('./letter-recognition.csv', newline='') as data_file:\n",
    "    reader = csv.reader(data_file, delimiter=',')\n",
    "    for row in reader:\n",
    "        # Map the character to the integer number\n",
    "        row[0] = ord(row[0]) - ord('A')\n",
    "        dataset.append(row)\n",
    "\n",
    "# Define a ratio to split the training test and test set\n",
    "training_split = int(len(dataset) * 0.8)\n",
    "# Split the training set\n",
    "training_set = np.array(dataset[:training_split], dtype=np.int)\n",
    "X = training_set[:, 1:]\n",
    "y = training_set[:, 0]\n",
    "\n",
    "# Define the number of output labels\n",
    "num_labels = 26\n",
    "\n",
    "# One hot encode y labels\n",
    "categorical_y = np.zeros((len(y), num_labels))\n",
    "for i, l in enumerate(y):\n",
    "    categorical_y[i][l] = 1\n",
    "\n",
    "# Normalize the features - Important!!!\n",
    "X = X/15\n",
    "\n",
    "# find a proper configuration\n",
    "mlp = MLP(16, 30, 26, learning_rate=0.1, max_epochs=1300, verbose=3)\n",
    "mlp.fit(X, categorical_y)"
   ]
  },
  {
   "cell_type": "code",
   "execution_count": 23,
   "metadata": {
    "colab": {
     "autoexec": {
      "startup": false,
      "wait_interval": 0
     },
     "base_uri": "https://localhost:8080/",
     "height": 765
    },
    "colab_type": "code",
    "executionInfo": {
     "elapsed": 509,
     "status": "ok",
     "timestamp": 1524909573024,
     "user": {
      "displayName": "Qirun Chen",
      "photoUrl": "https://lh3.googleusercontent.com/a/default-user=s128",
      "userId": "107057765158730970246"
     },
     "user_tz": -60
    },
    "id": "-OZgjtKs6ofu",
    "outputId": "9e8261c8-ada8-48c2-d60d-57d98e7ab21b"
   },
   "outputs": [
    {
     "name": "stdout",
     "output_type": "stream",
     "text": [
      "Expected: U | Output: M\n",
      "Expected: M | Output: M\n",
      "Expected: I | Output: I\n",
      "Expected: S | Output: S\n",
      "Expected: N | Output: N\n",
      "Expected: N | Output: N\n",
      "Expected: J | Output: J\n",
      "Expected: R | Output: R\n",
      "Expected: L | Output: L\n",
      "Expected: M | Output: M\n",
      "Expected: O | Output: O\n",
      "Expected: H | Output: M\n",
      "Expected: P | Output: F\n",
      "Expected: J | Output: X\n",
      "========================================\n",
      "Test sample size: 4000 | Correctly predicted sample size: 3210\n",
      "Accuracy: 0.802\n",
      "========================================\n",
      "A => Sample Number: 156 | Correct Number: 132 | Accuracy: 0.846\n",
      "B => Sample Number: 136 | Correct Number: 114 | Accuracy: 0.838\n",
      "C => Sample Number: 142 | Correct Number: 108 | Accuracy: 0.761\n",
      "D => Sample Number: 167 | Correct Number: 146 | Accuracy: 0.874\n",
      "E => Sample Number: 152 | Correct Number: 115 | Accuracy: 0.757\n",
      "F => Sample Number: 153 | Correct Number: 119 | Accuracy: 0.778\n",
      "G => Sample Number: 164 | Correct Number: 127 | Accuracy: 0.774\n",
      "H => Sample Number: 151 | Correct Number: 75 | Accuracy: 0.497\n",
      "I => Sample Number: 165 | Correct Number: 142 | Accuracy: 0.861\n",
      "J => Sample Number: 148 | Correct Number: 121 | Accuracy: 0.818\n",
      "K => Sample Number: 146 | Correct Number: 112 | Accuracy: 0.767\n",
      "L => Sample Number: 157 | Correct Number: 128 | Accuracy: 0.815\n",
      "M => Sample Number: 144 | Correct Number: 130 | Accuracy: 0.903\n",
      "N => Sample Number: 166 | Correct Number: 127 | Accuracy: 0.765\n",
      "O => Sample Number: 139 | Correct Number: 113 | Accuracy: 0.813\n",
      "P => Sample Number: 168 | Correct Number: 130 | Accuracy: 0.774\n",
      "Q => Sample Number: 168 | Correct Number: 150 | Accuracy: 0.893\n",
      "R => Sample Number: 161 | Correct Number: 124 | Accuracy: 0.770\n",
      "S => Sample Number: 161 | Correct Number: 116 | Accuracy: 0.720\n",
      "T => Sample Number: 151 | Correct Number: 120 | Accuracy: 0.795\n",
      "U => Sample Number: 168 | Correct Number: 136 | Accuracy: 0.810\n",
      "V => Sample Number: 136 | Correct Number: 120 | Accuracy: 0.882\n",
      "W => Sample Number: 139 | Correct Number: 121 | Accuracy: 0.871\n",
      "X => Sample Number: 159 | Correct Number: 126 | Accuracy: 0.792\n",
      "Y => Sample Number: 145 | Correct Number: 126 | Accuracy: 0.869\n",
      "Z => Sample Number: 158 | Correct Number: 132 | Accuracy: 0.835\n"
     ]
    }
   ],
   "source": [
    "# Split the inputs and outputs of the test set\n",
    "test_set = np.array(dataset[training_split:], dtype=np.int)\n",
    "test_x = test_set[:, 1:]\n",
    "# Normalization - Important!!!\n",
    "test_x = test_x / 15\n",
    "test_y = test_set[:, 0]\n",
    "# Predict on the normalized test set\n",
    "prediction = mlp.predict(test_x)\n",
    "\n",
    "# Print prediction details\n",
    "# Initialize the confusion dictionary\n",
    "confusion_dict = {to_character(i): 0 for i in range(26)}\n",
    "letter_num_dict = {to_character(i): 0 for i in range(26)}\n",
    "for i, _ in enumerate(test_y):\n",
    "\n",
    "    letter_num_dict[to_character(test_y[i])] += 1\n",
    "    # Print some predictions\n",
    "    if i % 300 == 0:\n",
    "        print('Expected: %s | Output: %s' % (to_character(test_y[i]), to_character(prediction[i])))\n",
    "    if test_y[i] == prediction[i]:\n",
    "        confusion_dict[to_character(prediction[i])] += 1\n",
    "        \n",
    "\n",
    "print('==' * 20)\n",
    "# Calculate the accuracy\n",
    "accuracy = sum(confusion_dict.values()) / len(test_y)\n",
    "print('Test sample size: %d | Correctly predicted sample size: %d' % \n",
    "      (len(test_y), sum(confusion_dict.values())))\n",
    "print('Accuracy: %.3f' % accuracy)\n",
    "\n",
    "# Performance on each class\n",
    "print('==' * 20)\n",
    "for k,v in letter_num_dict.items():\n",
    "    print('%s => Sample Number: %d | Correct Number: %d | Accuracy: %.3f' %\n",
    "         (k, v, confusion_dict[k], confusion_dict[k]/v))"
   ]
  },
  {
   "cell_type": "code",
   "execution_count": 0,
   "metadata": {
    "colab": {
     "autoexec": {
      "startup": false,
      "wait_interval": 0
     }
    },
    "colab_type": "code",
    "id": "pvZfoIK5g6F3"
   },
   "outputs": [],
   "source": []
  }
 ],
 "metadata": {
  "colab": {
   "collapsed_sections": [],
   "default_view": {},
   "name": "letter_reco.ipynb",
   "provenance": [],
   "version": "0.3.2",
   "views": {}
  },
  "kernelspec": {
   "display_name": "Python 3",
   "language": "python",
   "name": "python3"
  },
  "language_info": {
   "codemirror_mode": {
    "name": "ipython",
    "version": 3
   },
   "file_extension": ".py",
   "mimetype": "text/x-python",
   "name": "python",
   "nbconvert_exporter": "python",
   "pygments_lexer": "ipython3",
   "version": "3.6.2"
  }
 },
 "nbformat": 4,
 "nbformat_minor": 1
}
